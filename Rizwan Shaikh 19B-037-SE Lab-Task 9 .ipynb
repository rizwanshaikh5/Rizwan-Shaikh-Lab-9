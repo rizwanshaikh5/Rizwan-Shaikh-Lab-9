{
 "cells": [
  {
   "cell_type": "code",
   "execution_count": 1,
   "metadata": {},
   "outputs": [
    {
     "name": "stdout",
     "output_type": "stream",
     "text": [
      "{'345-67-89', '234-56-78', '123-45-67'}\n",
      "The Length of Phonebook1 is : 3\n",
      "The Given Phonebook1 id : {'345-67-89', '234-56-78', '123-45-67'}\n"
     ]
    }
   ],
   "source": [
    "phonebook1 = {'123-45-67', '234-56-78', '345-67-89', '123-45-67', '234-56-78'}\n",
    "print(phonebook1)\n",
    "set_len = len(phonebook1)\n",
    "print('The Length of Phonebook1 is :', set_len)\n",
    "print('The Given Phonebook1 id :', phonebook1)"
   ]
  },
  {
   "cell_type": "code",
   "execution_count": 2,
   "metadata": {},
   "outputs": [
    {
     "name": "stdout",
     "output_type": "stream",
     "text": [
      "{(1, 2, 3, 4, 5, 6), '17.5', 'Uman Institute of Technology'}\n",
      "The lenguth of Mix Data is : 3\n"
     ]
    }
   ],
   "source": [
    "mix_data = {'Uman Institute of Technology', '17.5', (1,2,3,4,5,6)}\n",
    "print(mix_data)\n",
    "set_len = len(mix_data)\n",
    "print('The lenguth of Mix Data is :', set_len)"
   ]
  },
  {
   "cell_type": "code",
   "execution_count": 3,
   "metadata": {},
   "outputs": [
    {
     "name": "stdout",
     "output_type": "stream",
     "text": [
      "{(1, 2, 3, 4, 5, 6), '17.5', 'Uman Institute of Technology'}\n",
      "The length of Mix Data is : 3\n"
     ]
    }
   ],
   "source": [
    "#2(a)\n",
    "mix_data = {'Uman Institute of Technology', '17.5', (1,2,3,4,5,6)}\n",
    "print(mix_data)\n",
    "set_len = len(mix_data)\n",
    "print('The length of Mix Data is :', set_len)  \n",
    "#no error"
   ]
  },
  {
   "cell_type": "code",
   "execution_count": 4,
   "metadata": {},
   "outputs": [],
   "source": [
    "#mix_data = {'Uman Institute of Technology', '17.5', (1,2,3,4,5,6)}\n",
    "#print(mix_data)\n",
    "#set_len = len(mix_data)\n",
    "#print('The length of Mix Data is :', set_len)\n",
    "#Key and Value Error"
   ]
  },
  {
   "cell_type": "code",
   "execution_count": 5,
   "metadata": {},
   "outputs": [
    {
     "name": "stdout",
     "output_type": "stream",
     "text": [
      "For Data Scientist specialization you need : {'Tableau', 'SAS', 'SQL', 'R', 'Python', 'Git'}\n",
      "For Data Engineer specialization you need : {'SQL', 'Java', 'Python', 'Scala', 'Git'}\n"
     ]
    }
   ],
   "source": [
    "dataScientist = set(['Python', 'R', 'SQL', 'Git', 'Tableau', 'SAS'])\n",
    "dataEngineer = set(['Python', 'Java', 'Scala', 'Git', 'SQL'])\n",
    "print('For Data Scientist specialization you need :', dataScientist)\n",
    "print('For Data Engineer specialization you need :', dataEngineer)"
   ]
  },
  {
   "cell_type": "code",
   "execution_count": 6,
   "metadata": {},
   "outputs": [
    {
     "name": "stdout",
     "output_type": "stream",
     "text": [
      "set()\n",
      "{}\n",
      "{}\n"
     ]
    }
   ],
   "source": [
    "my_empty_set = set()\n",
    "my_empty_dic1 = dict()\n",
    "my_empty_dic2 = {}\n",
    "\n",
    "print(my_empty_set)\n",
    "print(my_empty_dic1)\n",
    "print(my_empty_dic2)"
   ]
  },
  {
   "cell_type": "code",
   "execution_count": 7,
   "metadata": {},
   "outputs": [
    {
     "name": "stdout",
     "output_type": "stream",
     "text": [
      "My top scoring Students in Programming Fundamentals are : {'Usman', 'Asma', 'Ahad', 'Bassam', 'Rafeh', 'Wadood', 'Yusra'}\n",
      "Oh, I guess i miss one Student, Let me Add his name too\n",
      "Previously I have added :7Students in my List\n",
      "Thanks, I have Remember him\n",
      "Now my top scoring Students are : {'Usman', 'Asma', 'Ahad', 'Bassam', 'Rafeh', 'Wadood', 'Khurram', 'Yusra'}\n",
      "Now after adding I have : 8Students in my List\n"
     ]
    }
   ],
   "source": [
    "my_topStudents = {'Bassam', 'Usman', 'Rafeh', 'Ahad', 'Wadood', 'Yusra', 'Asma'}\n",
    "print('My top scoring Students in Programming Fundamentals are :', my_topStudents)\n",
    "print('Oh, I guess i miss one Student, Let me Add his name too')\n",
    "print('Previously I have added :' + str(len(my_topStudents)) + 'Students in my List')\n",
    "my_topStudents.add('Khurram')\n",
    "print('Thanks, I have Remember him')\n",
    "print('Now my top scoring Students are :', my_topStudents)\n",
    "print('Now after adding I have :', str(len(my_topStudents)) + 'Students in my List')"
   ]
  },
  {
   "cell_type": "code",
   "execution_count": 8,
   "metadata": {},
   "outputs": [
    {
     "name": "stdout",
     "output_type": "stream",
     "text": [
      "My top scoring Students in Programming Fundamentals are : {'Usman', 'Asma', 'Ahad', 'Bassam', 'Rafeh', 'Wadood', 'Yusra'}\n",
      "Oh, I guess i miss one Student, Let me Add his name too\n",
      "Previously I have added : 7 Students in my List\n",
      "Thanks, I have Remember him\n",
      "Now my top scoring Students are : {'Khurram Khan', 'Usman', 'Asma', 'Ahad', 'Khurram Khalil', 'Bassam', 'Rafeh', 'Wadood', 'Yusra'}\n",
      "Now after adding I have : 9Students in my List\n",
      "Oh, I guess i have Added one student with similar name, Let me remove his name.\n",
      "Now my top scoring students name after removing extra name are : {'Khurram Khan', 'Usman', 'Asma', 'Ahad', 'Bassam', 'Rafeh', 'Wadood', 'Yusra'}\n",
      "Now after removing I have : 8 Students in my List\n"
     ]
    }
   ],
   "source": [
    "my_topStudents = {'Bassam', 'Usman', 'Rafeh', 'Ahad', 'Wadood', 'Yusra', 'Asma'}\n",
    "print('My top scoring Students in Programming Fundamentals are :', my_topStudents)\n",
    "print('Oh, I guess i miss one Student, Let me Add his name too')\n",
    "print('Previously I have added : ' + str(len(my_topStudents)) + ' Students in my List')\n",
    "my_topStudents.add('Khurram Khalil')\n",
    "my_topStudents.add('Khurram Khan')\n",
    "print('Thanks, I have Remember him')\n",
    "print('Now my top scoring Students are :', my_topStudents)\n",
    "print('Now after adding I have :', str(len(my_topStudents)) + 'Students in my List')\n",
    "print('Oh, I guess i have Added one student with similar name, Let me remove his name.')\n",
    "my_topStudents.remove('Khurram Khalil')\n",
    "print('Now my top scoring students name after removing extra name are :', my_topStudents)\n",
    "print('Now after removing I have : ' + str(len(my_topStudents)), 'Students in my List')"
   ]
  },
  {
   "cell_type": "code",
   "execution_count": 9,
   "metadata": {},
   "outputs": [
    {
     "name": "stdout",
     "output_type": "stream",
     "text": [
      "My top scoring Students in Programming Fundamentals are : {'Usman', 'Asma', 'Ahad', 'Bassam', 'Rafeh', 'Wadood', 'Yusra'}\n",
      "Oh, I guess i miss one Student, Let me Add his name too\n",
      "Previously I have added : 7 Students in my List\n",
      "Thanks, I have Remember him\n",
      "Now my top scoring Students are : {'Khurram Khan', 'Usman', 'Asma', 'Ahad', 'Khurram Khalil', 'Bassam', 'Rafeh', 'Wadood', 'Yusra'}\n",
      "Now after adding I have : 9Students in my List\n",
      "Oh, I guess i have Added one student with similar name, Let me remove his name.\n",
      "Now my top scoring students name after removing extra name are : {'Khurram Khan', 'Usman', 'Asma', 'Ahad', 'Bassam', 'Rafeh', 'Wadood', 'Yusra'}\n",
      "Now after removing I have : 8 Students in my List\n",
      "Now my top scoring students name after removing extra name are : {'Khurram Khan', 'Usman', 'Asma', 'Ahad', 'Bassam', 'Rafeh', 'Wadood', 'Yusra'}\n",
      "Now after removing I have : 8 Students in my List\n"
     ]
    }
   ],
   "source": [
    "my_topStudents = {'Bassam', 'Usman', 'Rafeh', 'Ahad', 'Wadood', 'Yusra', 'Asma'}\n",
    "print('My top scoring Students in Programming Fundamentals are :', my_topStudents)\n",
    "print('Oh, I guess i miss one Student, Let me Add his name too')\n",
    "print('Previously I have added : ' + str(len(my_topStudents)) + ' Students in my List')\n",
    "my_topStudents.add('Khurram Khalil')\n",
    "my_topStudents.add('Khurram Khan')\n",
    "print('Thanks, I have Remember him')\n",
    "print('Now my top scoring Students are :', my_topStudents)\n",
    "print('Now after adding I have :', str(len(my_topStudents)) + 'Students in my List')\n",
    "print('Oh, I guess i have Added one student with similar name, Let me remove his name.')\n",
    "my_topStudents.remove('Khurram Khalil')\n",
    "print('Now my top scoring students name after removing extra name are :', my_topStudents)\n",
    "print('Now after removing I have : ' + str(len(my_topStudents)), 'Students in my List')\n",
    "my_topStudents.discard('Khurram Khalil')\n",
    "print('Now my top scoring students name after removing extra name are :', my_topStudents)\n",
    "print('Now after removing I have : ' + str(len(my_topStudents)), 'Students in my List')"
   ]
  },
  {
   "cell_type": "code",
   "execution_count": 10,
   "metadata": {},
   "outputs": [],
   "source": [
    "#No Changes"
   ]
  },
  {
   "cell_type": "code",
   "execution_count": 11,
   "metadata": {},
   "outputs": [
    {
     "name": "stdout",
     "output_type": "stream",
     "text": [
      "My top scoring Students in Programming Fundamentals are : {'Usman', 'Asma', 'Ahad', 'Bassam', 'Rafeh', 'Wadood', 'Yusra'}\n",
      "Oh, I guess i miss one Student, Let me Add his name too\n",
      "Previously I have added : 7 Students in my List\n",
      "Thanks, I have Remember him\n",
      "Now my top scoring Students are : {'Khurram Khan', 'Usman', 'Asma', 'Ahad', 'Khurram Khalil', 'Bassam', 'Rafeh', 'Wadood', 'Yusra'}\n",
      "Now after adding I have : 9Students in my List\n",
      "Oh, I guess i have Added one student with similar name, Let me remove his name.\n",
      "Now my top scoring students name after removing extra name are : {'Khurram Khan', 'Usman', 'Asma', 'Ahad', 'Bassam', 'Rafeh', 'Wadood', 'Yusra'}\n",
      "Now after removing I have : 8 Students in my List\n",
      "Now my top scoring students name after removing extra name are : {'Khurram Khan', 'Usman', 'Asma', 'Ahad', 'Bassam', 'Rafeh', 'Wadood', 'Yusra'}\n",
      "Now after removing I have : 8 Students in my List\n",
      "Now my top scoring students name after removing extra name are : {'Usman', 'Asma', 'Ahad', 'Bassam', 'Rafeh', 'Wadood', 'Yusra'}\n",
      "Now after removing I have : 7 Students in my List\n"
     ]
    }
   ],
   "source": [
    "my_topStudents = {'Bassam', 'Usman', 'Rafeh', 'Ahad', 'Wadood', 'Yusra', 'Asma'}\n",
    "print('My top scoring Students in Programming Fundamentals are :', my_topStudents)\n",
    "print('Oh, I guess i miss one Student, Let me Add his name too')\n",
    "print('Previously I have added : ' + str(len(my_topStudents)) + ' Students in my List')\n",
    "my_topStudents.add('Khurram Khalil')\n",
    "my_topStudents.add('Khurram Khan')\n",
    "print('Thanks, I have Remember him')\n",
    "print('Now my top scoring Students are :', my_topStudents)\n",
    "print('Now after adding I have :', str(len(my_topStudents)) + 'Students in my List')\n",
    "print('Oh, I guess i have Added one student with similar name, Let me remove his name.')\n",
    "my_topStudents.remove('Khurram Khalil')\n",
    "print('Now my top scoring students name after removing extra name are :', my_topStudents)\n",
    "print('Now after removing I have : ' + str(len(my_topStudents)), 'Students in my List')\n",
    "my_topStudents.discard('Khurram Khalil')\n",
    "print('Now my top scoring students name after removing extra name are :', my_topStudents)\n",
    "print('Now after removing I have : ' + str(len(my_topStudents)), 'Students in my List')\n",
    "my_topStudents.pop()\n",
    "print('Now my top scoring students name after removing extra name are :', my_topStudents)\n",
    "print('Now after removing I have : ' + str(len(my_topStudents)), 'Students in my List')"
   ]
  },
  {
   "cell_type": "code",
   "execution_count": 12,
   "metadata": {},
   "outputs": [
    {
     "name": "stdout",
     "output_type": "stream",
     "text": [
      "My top scoring Students in Programming Fundamentals are : {'Usman', 'Asma', 'Ahad', 'Bassam', 'Rafeh', 'Wadood', 'Yusra'}\n",
      "Lets Clear This List and Prepare a new list for the final Exams\n",
      "Now after clearing the set I have :  None\n"
     ]
    }
   ],
   "source": [
    "my_topStudents = {'Bassam', 'Usman', 'Rafeh', 'Ahad', 'Wadood', 'Yusra', 'Asma'}\n",
    "print('My top scoring Students in Programming Fundamentals are :', my_topStudents)\n",
    "print('Lets Clear This List and Prepare a new list for the final Exams')\n",
    "my_topStudents = my_topStudents.clear()\n",
    "print('Now after clearing the set I have : ', my_topStudents)"
   ]
  },
  {
   "cell_type": "code",
   "execution_count": 13,
   "metadata": {},
   "outputs": [
    {
     "name": "stdout",
     "output_type": "stream",
     "text": [
      "Phonebook1 is :  {'345-67-89', '234-56-78', '123-45-67'}\n",
      "Phonebook3 is :  {'456-78-90', '345-67-89'}\n",
      "The Union of Phonebook1 and Phonebook3 is :  {'345-67-89', '456-78-90', '234-56-78', '123-45-67'}\n",
      "The Union of Phonebook3 and Phonebook1 is :  {'345-67-89', '456-78-90', '234-56-78', '123-45-67'}\n",
      "The Intersection of Phonebook1 and Phonebook3 is :  {'345-67-89'}\n",
      "The Intersection of Phonebook3 and Phonebook1 is :  {'345-67-89'}\n",
      "The Difference between Phonebook1 and Phonebook3 is :  {'234-56-78', '123-45-67'}\n",
      "The Difference between Phonebook3 and Phonebook1 is :  {'456-78-90'}\n",
      "The Symmetric Difference between Phonebook1 and Phonebook3 is :  {'456-78-90', '234-56-78', '123-45-67'}\n",
      "The Symmetric Difference between Phonebook3 and Phonebook1 is :  {'456-78-90', '234-56-78', '123-45-67'}\n"
     ]
    }
   ],
   "source": [
    "phonebook1 = {'123-45-67', '234-56-78', '345-67-89', '123-45-67', '234-56-78'}\n",
    "phonebook3 = {'345-67-89', '456-78-90'}\n",
    "print('Phonebook1 is : ', phonebook1)\n",
    "print('Phonebook3 is : ', phonebook3)\n",
    "print('The Union of Phonebook1 and Phonebook3 is : ', phonebook1 | phonebook3)\n",
    "print('The Union of Phonebook3 and Phonebook1 is : ', phonebook3 | phonebook1)\n",
    "print('The Intersection of Phonebook1 and Phonebook3 is : ', phonebook1 & phonebook3)\n",
    "print('The Intersection of Phonebook3 and Phonebook1 is : ', phonebook3 & phonebook1)\n",
    "print('The Difference between Phonebook1 and Phonebook3 is : ', phonebook1 - phonebook3)\n",
    "print('The Difference between Phonebook3 and Phonebook1 is : ', phonebook3 - phonebook1)\n",
    "print('The Symmetric Difference between Phonebook1 and Phonebook3 is : ', phonebook1 ^ phonebook3)\n",
    "print('The Symmetric Difference between Phonebook3 and Phonebook1 is : ', phonebook3^ phonebook1)"
   ]
  }
 ],
 "metadata": {
  "kernelspec": {
   "display_name": "Python 3",
   "language": "python",
   "name": "python3"
  },
  "language_info": {
   "codemirror_mode": {
    "name": "ipython",
    "version": 3
   },
   "file_extension": ".py",
   "mimetype": "text/x-python",
   "name": "python",
   "nbconvert_exporter": "python",
   "pygments_lexer": "ipython3",
   "version": "3.7.3"
  }
 },
 "nbformat": 4,
 "nbformat_minor": 2
}
