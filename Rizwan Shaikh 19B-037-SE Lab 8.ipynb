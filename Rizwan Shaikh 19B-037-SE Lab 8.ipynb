{
 "cells": [
  {
   "cell_type": "markdown",
   "metadata": {},
   "source": [
    "Program 1"
   ]
  },
  {
   "cell_type": "code",
   "execution_count": 1,
   "metadata": {},
   "outputs": [
    {
     "name": "stdout",
     "output_type": "stream",
     "text": [
      "{'Father': 'Sadullah', 'Mother': 'Sajida', 'Brother': 'Nouman', 'Sister': 'Sadia', 'PgrandF': 'Waris', 'PgrandM': 'Raziya', 'PUncle': 'Riaz', 'PAunt': 'Shazia', 'MgrandF': 'Dont Know', 'MgrandM': 'Dont Know', 'MUncle': 'Nadeem', 'MAunt': 'Rufina'}\n"
     ]
    }
   ],
   "source": [
    "family = {'Father':'Sadullah','Mother':'Sajida','Brother':'Nouman','Sister':'Sadia'}\n",
    "family['PgrandF'] = 'Waris'\n",
    "family['PgrandM'] = 'Raziya'\n",
    "family['PUncle'] = 'Riaz'\n",
    "family['PAunt'] = 'Shazia'\n",
    "family['MgrandF'] = 'Dont Know'\n",
    "family['MgrandM'] = 'Dont Know'\n",
    "family['MUncle'] = 'Nadeem'\n",
    "family['MAunt'] = 'Rufina'\n",
    "print(family)"
   ]
  },
  {
   "cell_type": "markdown",
   "metadata": {},
   "source": [
    "Program 2"
   ]
  },
  {
   "cell_type": "code",
   "execution_count": 2,
   "metadata": {},
   "outputs": [
    {
     "name": "stdout",
     "output_type": "stream",
     "text": [
      "{'Papa': ['03330000001'], 'Ami': ['03330000002'], 'Nouman': ['03330000003'], 'Sadia': ['03330000004'], 'Bilal': ['03330000005'], 'Huzaifa': ['03330000006']}\n"
     ]
    }
   ],
   "source": [
    "familynum = {}\n",
    "def phone(Name,Number):\n",
    "    familynum[Name]=[Number]\n",
    "    \n",
    "    \n",
    "phone('Papa' ,'03330000001')\n",
    "phone('Ami' ,'03330000002')\n",
    "phone('Nouman','03330000003')\n",
    "phone('Sadia','03330000004')\n",
    "phone('Bilal','03330000005')\n",
    "phone('Huzaifa','03330000006')\n",
    "phone('Osarim','03330000007')\n",
    "\n",
    "def delete(name):\n",
    "    del familynum[name]\n",
    "\n",
    "delete('Osarim')\n",
    "print(familynum)"
   ]
  },
  {
   "cell_type": "markdown",
   "metadata": {},
   "source": [
    "Program 3"
   ]
  },
  {
   "cell_type": "code",
   "execution_count": 3,
   "metadata": {},
   "outputs": [
    {
     "name": "stdout",
     "output_type": "stream",
     "text": [
      "{'a': ['61'], 'b': ['62'], 'c': ['63'], 'd': ['64'], 'e': ['65'], 'f': ['66'], 'g': ['67'], 'h': ['68'], 'i': ['69'], 'j': ['6a'], 'k': ['6b'], 'l': ['6c'], 'm': ['6d'], 'n': ['6e'], 'o': ['6f'], 'p': ['70'], 'q': ['71'], 'r': ['72'], 's': ['73'], 't': ['74'], 'u': ['75'], 'v': ['76'], 'w': ['77'], 'x': ['78'], 'y': ['79'], 'z': ['7a']}\n"
     ]
    }
   ],
   "source": [
    "def hexASCII():\n",
    "    hexasii = {}\n",
    "    for i in range(97,123):\n",
    "        hexasii[chr(i)]=['{0:x}'.format(i)]\n",
    "    print(hexasii)\n",
    "hexASCII()"
   ]
  },
  {
   "cell_type": "markdown",
   "metadata": {},
   "source": [
    "Program 4"
   ]
  },
  {
   "cell_type": "code",
   "execution_count": 4,
   "metadata": {},
   "outputs": [
    {
     "name": "stdout",
     "output_type": "stream",
     "text": [
      "My Favorite Dishes that has not been made : Achar Ghost , Qorma , Machroni , \n",
      "Number of Dishes made of my choice :  3\n"
     ]
    }
   ],
   "source": [
    "favorite = {'favorite' : ['Achar Ghost','Biryani','Qorma','Nihari','Pizza','Machroni']}\n",
    "cooked = {'mon':'Daal','tue':'Biryani','wed':'Aalo','thurs':'Nihari','fri':'Biryani','sat':'Pizza','sun':'Daal'}\n",
    "\n",
    "\n",
    "cookd = cooked.values()\n",
    "favorite = favorite['favorite']\n",
    "notmade = 0\n",
    "z = set(cookd)&set(favorite)\n",
    "print('My Favorite Dishes that has not been made : ',end=(\"\"))\n",
    "for i in favorite: \n",
    "    if i not in z :\n",
    "        print(i,end=(\" , \"))\n",
    "        notmade = notmade + 1\n",
    "    \n",
    "print('\\nNumber of Dishes made of my choice : ',notmade)"
   ]
  },
  {
   "cell_type": "markdown",
   "metadata": {},
   "source": [
    "Program 5"
   ]
  },
  {
   "cell_type": "code",
   "execution_count": 5,
   "metadata": {},
   "outputs": [
    {
     "name": "stdout",
     "output_type": "stream",
     "text": [
      "Family of Bilal\n",
      "Family of Ahmed\n",
      "Family of  Ali\n",
      "Family of  Fayaz\n",
      "Family of  Shahida\n",
      "Total Number of families  :  5\n",
      "Total Number of Guests    :  25\n"
     ]
    }
   ],
   "source": [
    "parentlist = {'Uncle':'Fayaz','Aunt':'Shahida','Frind':'Ali'}\n",
    "mylist = {'BestFriend':'Bilal', 'Uncle':'Fayaz','Friend':'Ahmed'}\n",
    "\n",
    "def totalguest(dic1,dic2):\n",
    "    count = 0\n",
    "    totalguest = 0\n",
    "    guestfamilies = set(mylist)|set(parentlist)\n",
    "    \n",
    "    for i in guestfamilies:\n",
    "        if i in parentlist:\n",
    "            guest = parentlist[i]\n",
    "            totalguest = totalguest + len(guest)\n",
    "            print(\"Family of  {1}\".format(i,guest))\n",
    "        else:\n",
    "            guest = mylist[i]\n",
    "            totalguest = totalguest + len(guest)\n",
    "            print(\"Family of {1}\".format(i,guest))\n",
    "            \n",
    "    print('Total Number of families  : ',len(guestfamilies))   \n",
    "    print(\"Total Number of Guests    : \" ,totalguest)\n",
    "totalguest(parentlist,mylist)"
   ]
  }
 ],
 "metadata": {
  "kernelspec": {
   "display_name": "Python 3",
   "language": "python",
   "name": "python3"
  },
  "language_info": {
   "codemirror_mode": {
    "name": "ipython",
    "version": 3
   },
   "file_extension": ".py",
   "mimetype": "text/x-python",
   "name": "python",
   "nbconvert_exporter": "python",
   "pygments_lexer": "ipython3",
   "version": "3.7.3"
  }
 },
 "nbformat": 4,
 "nbformat_minor": 2
}
